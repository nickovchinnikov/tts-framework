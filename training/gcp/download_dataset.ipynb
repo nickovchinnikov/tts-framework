{
 "cells": [
  {
   "cell_type": "code",
   "execution_count": 1,
   "metadata": {
    "tags": []
   },
   "outputs": [],
   "source": [
    "from pathlib import Path\n",
    "\n",
    "from lhotse.recipes import (\n",
    "    download_voxceleb1,\n",
    "    download_voxceleb2,\n",
    "    hifitts,\n",
    "    libritts,\n",
    "    prepare_voxceleb,\n",
    ")"
   ]
  },
  {
   "cell_type": "code",
   "execution_count": 2,
   "metadata": {
    "tags": []
   },
   "outputs": [],
   "source": [
    "root_dir = Path(\"./datasets_cache\")\n",
    "\n",
    "hifitts_path = root_dir / \"hifitts\"\n",
    "libritts_path = root_dir / \"librittsr\"\n"
   ]
  },
  {
   "cell_type": "code",
   "execution_count": null,
   "metadata": {
    "tags": []
   },
   "outputs": [
    {
     "data": {
      "application/vnd.jupyter.widget-view+json": {
       "model_id": "bfb2887a772c44f3ae03b696a60b2e6c",
       "version_major": 2,
       "version_minor": 0
      },
      "text/plain": [
       "datasets_cache/hifitts/hi_fi_tts_v0.tar.gz:   0%|          | 0.00/41.4G [00:00<?, ?B/s]"
      ]
     },
     "metadata": {},
     "output_type": "display_data"
    }
   ],
   "source": [
    "hifitts_root = hifitts.download_hifitts(hifitts_path)\n",
    "hifitts_root"
   ]
  },
  {
   "cell_type": "code",
   "execution_count": null,
   "metadata": {},
   "outputs": [],
   "source": [
    "libritts_root = libritts.download_librittsr(\n",
    "    libritts_path,\n",
    ")\n",
    "libritts_root"
   ]
  }
 ],
 "metadata": {
  "kernelspec": {
   "display_name": "TTS-Framework",
   "language": "python",
   "name": "tts_framework"
  },
  "language_info": {
   "codemirror_mode": {
    "name": "ipython",
    "version": 3
   },
   "file_extension": ".py",
   "mimetype": "text/x-python",
   "name": "python",
   "nbconvert_exporter": "python",
   "pygments_lexer": "ipython3",
   "version": "3.11.7"
  }
 },
 "nbformat": 4,
 "nbformat_minor": 4
}
